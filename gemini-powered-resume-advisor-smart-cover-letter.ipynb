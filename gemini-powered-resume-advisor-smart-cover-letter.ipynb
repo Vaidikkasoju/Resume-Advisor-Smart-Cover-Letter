{
 "cells": [
  {
   "cell_type": "code",
   "execution_count": 1,
   "id": "aabd8f41",
   "metadata": {
    "_cell_guid": "b1076dfc-b9ad-4769-8c92-a6c4dae69d19",
    "_uuid": "8f2839f25d086af736a60e9eeb907d3b93b6e0e5",
    "execution": {
     "iopub.execute_input": "2025-04-06T08:20:45.711425Z",
     "iopub.status.busy": "2025-04-06T08:20:45.711010Z",
     "iopub.status.idle": "2025-04-06T08:20:46.727247Z",
     "shell.execute_reply": "2025-04-06T08:20:46.726262Z"
    },
    "papermill": {
     "duration": 1.023188,
     "end_time": "2025-04-06T08:20:46.729191",
     "exception": false,
     "start_time": "2025-04-06T08:20:45.706003",
     "status": "completed"
    },
    "tags": []
   },
   "outputs": [],
   "source": [
    "\n",
    "import pandas as pd # data processing, CSV file I/O (e.g. pd.read_csv)\n",
    "import numpy as py \n",
    "import os\n",
    "for dirname, _, filenames in os.walk('/kaggle/input'):\n",
    "    for filename in filenames:\n",
    "        print(os.path.join(dirname, filename))"
   ]
  },
  {
   "cell_type": "code",
   "execution_count": 2,
   "id": "6622bb2a",
   "metadata": {
    "execution": {
     "iopub.execute_input": "2025-04-06T08:20:46.734970Z",
     "iopub.status.busy": "2025-04-06T08:20:46.734388Z",
     "iopub.status.idle": "2025-04-06T08:20:53.153722Z",
     "shell.execute_reply": "2025-04-06T08:20:53.152664Z"
    },
    "papermill": {
     "duration": 6.423977,
     "end_time": "2025-04-06T08:20:53.155676",
     "exception": false,
     "start_time": "2025-04-06T08:20:46.731699",
     "status": "completed"
    },
    "tags": []
   },
   "outputs": [
    {
     "name": "stdout",
     "output_type": "stream",
     "text": [
      "\u001b[2K   \u001b[90m━━━━━━━━━━━━━━━━━━━━━━━━━━━━━━━━━━━━━━━━\u001b[0m \u001b[32m144.7/144.7 kB\u001b[0m \u001b[31m7.1 MB/s\u001b[0m eta \u001b[36m0:00:00\u001b[0m\r\n",
      "\u001b[2K   \u001b[90m━━━━━━━━━━━━━━━━━━━━━━━━━━━━━━━━━━━━━━━━\u001b[0m \u001b[32m100.9/100.9 kB\u001b[0m \u001b[31m5.3 MB/s\u001b[0m eta \u001b[36m0:00:00\u001b[0m\r\n",
      "\u001b[?25h"
     ]
    }
   ],
   "source": [
    "!pip install -U -q \"google-genai==1.7.0\""
   ]
  },
  {
   "cell_type": "code",
   "execution_count": 3,
   "id": "bdc84575",
   "metadata": {
    "execution": {
     "iopub.execute_input": "2025-04-06T08:20:53.161372Z",
     "iopub.status.busy": "2025-04-06T08:20:53.161017Z",
     "iopub.status.idle": "2025-04-06T08:20:54.421583Z",
     "shell.execute_reply": "2025-04-06T08:20:54.420731Z"
    },
    "papermill": {
     "duration": 1.265375,
     "end_time": "2025-04-06T08:20:54.423461",
     "exception": false,
     "start_time": "2025-04-06T08:20:53.158086",
     "status": "completed"
    },
    "tags": []
   },
   "outputs": [],
   "source": [
    "from google import genai\n",
    "from google.genai import types\n",
    "\n",
    "from IPython.display import HTML, Markdown, display"
   ]
  },
  {
   "cell_type": "code",
   "execution_count": 4,
   "id": "1228d8f8",
   "metadata": {
    "execution": {
     "iopub.execute_input": "2025-04-06T08:20:54.428955Z",
     "iopub.status.busy": "2025-04-06T08:20:54.428431Z",
     "iopub.status.idle": "2025-04-06T08:21:02.423808Z",
     "shell.execute_reply": "2025-04-06T08:21:02.422298Z"
    },
    "papermill": {
     "duration": 8.000006,
     "end_time": "2025-04-06T08:21:02.425706",
     "exception": false,
     "start_time": "2025-04-06T08:20:54.425700",
     "status": "completed"
    },
    "tags": []
   },
   "outputs": [
    {
     "name": "stdout",
     "output_type": "stream",
     "text": [
      "\n",
      "📬 Generated Cover Letter:\n",
      "\n",
      "[Your Name/Your Company Letterhead (if applicable)]\n",
      "[Your Address]\n",
      "[Your Phone Number]\n",
      "[Your Email]\n",
      "\n",
      "[Date]\n",
      "\n",
      "[Hiring Manager Name (if known), or \"Hiring Team\"]\n",
      "[Company Name]\n",
      "[Company Address]\n",
      "\n",
      "Dear [Mr./Ms./Mx. Hiring Manager Last Name (if known), or \"Hiring Team\"],\n",
      "\n",
      "I am writing to express my strong interest in the Software Developer position at [Company Name], as advertised on [Platform where you saw the ad - e.g., LinkedIn, company website].  My recent graduation with a B.Tech in Computer Science from XYZ University, combined with my practical experience in Python and web development, aligns perfectly with your requirements and makes me a highly motivated and suitable candidate for this role.\n",
      "\n",
      "During my internship as a Web Developer at ABC Corp, I gained valuable hands-on experience in developing and maintaining web applications using HTML, CSS, and JavaScript.  I have a strong foundation in Python, as demonstrated through personal projects such as my portfolio website and a to-do list application. I am also a quick learner and eager to expand my knowledge in cloud technologies, recognizing their growing importance in the software development landscape.\n",
      "\n",
      "My academic background has provided me with a solid understanding of core computer science principles, including data structures, algorithms, and software design patterns.  I am a collaborative team player, passionate about coding and dedicated to delivering high-quality solutions. I am confident that I can contribute meaningfully to your team and am eager to learn from experienced professionals in a dynamic environment like [Company Name].\n",
      "\n",
      "Thank you for considering my application. I have attached my resume for your review and welcome the opportunity to discuss my qualifications further in an interview.\n",
      "\n",
      "Sincerely,\n",
      "\n",
      "John Doe\n",
      "\n"
     ]
    }
   ],
   "source": [
    "# 📌 Resume Analyzer & Cover Letter Generator using Gemini\n",
    "\n",
    "import google.generativeai as genai\n",
    "\n",
    "# 🔑 Configure the API\n",
    "from kaggle_secrets import UserSecretsClient\n",
    "GOOGLE_API_KEY = UserSecretsClient().get_secret(\"GOOGLE_API_KEY\")\n",
    "\n",
    "genai.configure(api_key=GOOGLE_API_KEY)\n",
    "\n",
    "# 🎯 Load the Gemini Model\n",
    "model = genai.GenerativeModel('models/gemini-1.5-pro')    \n",
    "\n",
    "\n",
    "# 📝 Sample Resume Input (as plain text for now)\n",
    "resume_text = \"\"\"\n",
    "John Doe\n",
    "Email: john.doe@example.com | Phone: 123-456-7890\n",
    "\n",
    "Objective: Seeking a role in software development\n",
    "\n",
    "Education:\n",
    "B.Tech in Computer Science, XYZ University, 2023\n",
    "\n",
    "Skills:\n",
    "- Python, Java, C\n",
    "- Web Development (HTML, CSS, JavaScript)\n",
    "\n",
    "Projects:\n",
    "- Portfolio Website\n",
    "- To-do List App\n",
    "\n",
    "Internship:\n",
    "- Web Developer Intern at ABC Corp\n",
    "\n",
    "\"\"\"\n",
    "\n",
    "# 📌 Resume Analysis Prompt\n",
    "analysis_prompt = f\"\"\"\n",
    "You are a career advisor. Analyze the following resume and provide:\n",
    "1. Key strengths\n",
    "2. Areas of improvement\n",
    "3. Suggestions to enhance the resume\n",
    "\n",
    "Resume:\n",
    "{resume_text}\n",
    "\"\"\"\n",
    "\n",
    "job_description = \"\"\"\n",
    "We are looking for a Software Developer with experience in Python, web development, and cloud technologies. \n",
    "The ideal candidate should be passionate about coding, team collaboration, and eager to learn new technologies.\n",
    "\"\"\"\n",
    "\n",
    "# 📄 Cover Letter Prompt\n",
    "cover_letter_prompt = f\"\"\"\n",
    "You are a career coach. Generate a professional cover letter for the job description below, using the following resume as reference.\n",
    "\n",
    "Resume:\n",
    "{resume_text}\n",
    "\n",
    "Job Description:\n",
    "{job_description}\n",
    "\"\"\"\n",
    "\n",
    "\n",
    "# 📬 Generate Cover Letter\n",
    "cover_letter_response = model.generate_content(cover_letter_prompt)\n",
    "print(\"\\n📬 Generated Cover Letter:\\n\")\n",
    "print(cover_letter_response.text)\n"
   ]
  }
 ],
 "metadata": {
  "kaggle": {
   "accelerator": "none",
   "dataSources": [],
   "dockerImageVersionId": 30918,
   "isGpuEnabled": false,
   "isInternetEnabled": true,
   "language": "python",
   "sourceType": "notebook"
  },
  "kernelspec": {
   "display_name": "Python 3",
   "language": "python",
   "name": "python3"
  },
  "language_info": {
   "codemirror_mode": {
    "name": "ipython",
    "version": 3
   },
   "file_extension": ".py",
   "mimetype": "text/x-python",
   "name": "python",
   "nbconvert_exporter": "python",
   "pygments_lexer": "ipython3",
   "version": "3.10.12"
  },
  "papermill": {
   "default_parameters": {},
   "duration": 22.589117,
   "end_time": "2025-04-06T08:21:05.526884",
   "environment_variables": {},
   "exception": null,
   "input_path": "__notebook__.ipynb",
   "output_path": "__notebook__.ipynb",
   "parameters": {},
   "start_time": "2025-04-06T08:20:42.937767",
   "version": "2.6.0"
  }
 },
 "nbformat": 4,
 "nbformat_minor": 5
}
